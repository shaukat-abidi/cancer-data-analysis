{
 "cells": [
  {
   "cell_type": "markdown",
   "id": "9e3ec9fe-8a91-4403-8622-8adc8a91d05f",
   "metadata": {},
   "source": [
    "# EDA \n",
    "Conduct an initial exploratory analysis to understand the dataset’s characteristics, such as:\n",
    "-\n",
    "· The distribution of patients by age, gender, or diagnosis_description.-\n",
    "\n",
    "· The most frequent diagnoses and medication-.\n",
    "\n",
    "· Trends in medical procedures over t-me.\n",
    "\n",
    "· Explore the relationship between patient demographics and diagnosis or medication es.\n",
    "\n",
    "6. Perform basic statistical a-alysis:\n",
    "\n",
    "· Calculate mean, median, and standard deviation for numerical columns (e.g., age, frequency o- visits).\n",
    "\n",
    "· Identify any outliers or skewed \n",
    "\n",
    "# Visualisation:\n",
    ". Create an interactive report/dashboard with at least three visualisations that will allow a user to explore the synthetic health data. Be creative!- \n",
    "· Use interactive elements like dropdowns, filters, or sliders to allow users to explore different aspects of the datas- \n",
    "\n",
    "· Visualisations should include a mix of chart types (e.g., bar charts, line charts, scatter plots, pie charts, heatmaps e- .)\n",
    "\n",
    "· Ensure the layout is clear, with intuitive navigation and easily interpretable\n",
    "\n",
    "Insight Generation:\n",
    ". Based on your analysis and visualisations, provide key insights into the synthetic health data. For example:- \n",
    "· Are there any age groups or gender categories that are more prone to certain diagnose-?\n",
    "\n",
    "· Are there any temporal trends in hospital visits or medication -se?\n",
    "\n",
    "· What are the most common diagnoses or procedures for patients within the da-aset?\n",
    "\n",
    "· Can you identify any relationships between patient demographics and health outcomes (e.g., diagnoses, treatment success)? charts.distributions."
   ]
  },
  {
   "cell_type": "code",
   "execution_count": 1,
   "id": "e3161bf6-aad7-41ca-a39f-0be83167e8c5",
   "metadata": {},
   "outputs": [
    {
     "name": "stderr",
     "output_type": "stream",
     "text": [
      "/home/shaukat/virtualenv/dev/lib/python3.11/site-packages/tqdm/auto.py:21: TqdmWarning: IProgress not found. Please update jupyter and ipywidgets. See https://ipywidgets.readthedocs.io/en/stable/user_install.html\n",
      "  from .autonotebook import tqdm as notebook_tqdm\n"
     ]
    }
   ],
   "source": [
    "import yaml\n",
    "import os\n",
    "import sys \n",
    "\n",
    "import pandas as pd\n",
    "# import numpy as np\n",
    "# import matplotlib.pyplot as plt\n",
    "# import seaborn as sns\n",
    "\n",
    "\n",
    "# from IPython.display import display, JSON\n",
    "from ydata_profiling import ProfileReport\n",
    "# from pprint import pprint\n",
    "\n",
    "# Add the directory containing utils.py to the Python path\n",
    "sys.path.append(os.path.abspath(os.path.join(os.getcwd(), \"../utils\")))\n",
    "\n",
    "# import utils\n",
    "from utils import func_cast_columns, func_return_mappings, func_generate_report\n"
   ]
  },
  {
   "cell_type": "code",
   "execution_count": 2,
   "id": "50162583-b752-4658-bf2a-b2e297cc094c",
   "metadata": {},
   "outputs": [],
   "source": [
    "# Load datasets\n",
    "df_patients = pd.read_csv('../data/processed_data/processed_patients.csv')\n",
    "df_encounters = pd.read_csv('../data/processed_data/processed_encounters.csv')\n",
    "df_medications = pd.read_csv('../data/processed_data/processed_medications.csv')\n",
    "df_procedures = pd.read_csv('../data/processed_data/processed_procedures.csv')\n"
   ]
  },
  {
   "cell_type": "markdown",
   "id": "ada13f09-5f55-4f0e-9a40-709f6f66faa9",
   "metadata": {},
   "source": [
    "# Report for Patients"
   ]
  },
  {
   "cell_type": "code",
   "execution_count": 3,
   "id": "3bee1c7f-ba8a-44f4-ac8f-5ccfe775ffd8",
   "metadata": {},
   "outputs": [
    {
     "name": "stdout",
     "output_type": "stream",
     "text": [
      "Size of the DataFrame: 0.00 GB\n"
     ]
    },
    {
     "name": "stderr",
     "output_type": "stream",
     "text": [
      "Summarize dataset: 100%|██████████| 74/74 [00:04<00:00, 15.33it/s, Completed]                                       \n",
      "Generate report structure: 100%|██████████| 1/1 [00:10<00:00, 10.12s/it]\n",
      "Render HTML: 100%|██████████| 1/1 [00:01<00:00,  1.07s/it]\n",
      "Export report to file: 100%|██████████| 1/1 [00:00<00:00, 103.30it/s]\n"
     ]
    }
   ],
   "source": [
    "# Save Report as \n",
    "filename_of_report ='eda_patients_report.html'\n",
    "func_generate_report(df_patients, filename_of_report)"
   ]
  },
  {
   "cell_type": "markdown",
   "id": "a51261d5-0a06-47d7-a7b8-7c1341df7bde",
   "metadata": {},
   "source": [
    "# Report of Encounters"
   ]
  },
  {
   "cell_type": "code",
   "execution_count": 4,
   "id": "c88b498f-2619-4332-b8d7-e36e5ae38ec6",
   "metadata": {},
   "outputs": [
    {
     "name": "stdout",
     "output_type": "stream",
     "text": [
      "Column 'encounter_id' cast to type 'str'.\n",
      "--------------------\n",
      "Column 'start_time' cast to type 'datetimestamp'.\n",
      "--------------------\n",
      "Column 'stop_time' cast to type 'datetimestamp'.\n",
      "--------------------\n",
      "Column 'patient_id' cast to type 'str'.\n",
      "--------------------\n",
      "Column 'organization_id' cast to type 'str'.\n",
      "--------------------\n",
      "Column 'provider_id' cast to type 'str'.\n",
      "--------------------\n",
      "Column 'payer_id' cast to type 'str'.\n",
      "--------------------\n",
      "Column 'encounter_class' cast to type 'str'.\n",
      "--------------------\n",
      "Column 'code' cast to type 'str'.\n",
      "--------------------\n",
      "Column 'description' cast to type 'str'.\n",
      "--------------------\n",
      "Column 'base_encounter_cost' cast to type 'numeric'.\n",
      "--------------------\n",
      "Column 'total_claim_cost' cast to type 'numeric'.\n",
      "--------------------\n",
      "Column 'payer_coverage' cast to type 'numeric'.\n",
      "--------------------\n",
      "Column 'reason_code' cast to type 'str'.\n",
      "--------------------\n",
      "Column 'reason_description' cast to type 'str'.\n",
      "--------------------\n",
      "Column 'length_of_stay_hours' cast to type 'numeric'.\n",
      "--------------------\n",
      "Column 'birthdate' cast to type 'datetimestamp'.\n",
      "--------------------\n",
      "Column 'marital' cast to type 'str'.\n",
      "--------------------\n",
      "Column 'race' cast to type 'str'.\n",
      "--------------------\n",
      "Column 'ethnicity' cast to type 'str'.\n",
      "--------------------\n",
      "Column 'gender' cast to type 'str'.\n",
      "--------------------\n",
      "Column 'income' cast to type 'numeric'.\n",
      "--------------------\n",
      "Column 'income_category' cast to type 'str'.\n",
      "--------------------\n",
      "Column 'age_of_patient' cast to type 'numeric'.\n",
      "--------------------\n",
      "Column 'age_category' cast to type 'str'.\n",
      "--------------------\n",
      "Size of the DataFrame: 0.01 GB\n"
     ]
    },
    {
     "name": "stderr",
     "output_type": "stream",
     "text": [
      "Summarize dataset: 100%|██████████| 83/83 [00:09<00:00,  8.77it/s, Completed]                                         \n",
      "Generate report structure: 100%|██████████| 1/1 [00:08<00:00,  8.40s/it]\n",
      "Render HTML: 100%|██████████| 1/1 [00:01<00:00,  1.51s/it]\n",
      "Export report to file: 100%|██████████| 1/1 [00:00<00:00, 92.97it/s]\n"
     ]
    }
   ],
   "source": [
    "# Load YAML column mappings \n",
    "filename_yaml = '../config/processed_encounters.yaml' \n",
    "filename_of_report = 'eda_encounter_report.html'\n",
    "\n",
    "# Load dictionary mappings\n",
    "dict_column_mappings_encounters = func_return_mappings(filename_yaml)\n",
    "# display(dict_column_mappings_encounters)\n",
    "\n",
    "# Cast with YAML\n",
    "df_encounters = func_cast_columns(df_encounters, dict_column_mappings_encounters['columns'])\n",
    "\n",
    "# Generate report\n",
    "func_generate_report(df_encounters, filename_of_report)"
   ]
  },
  {
   "cell_type": "markdown",
   "id": "f15e8937",
   "metadata": {},
   "source": [
    "# Medication report"
   ]
  },
  {
   "cell_type": "code",
   "execution_count": 5,
   "id": "4db0ea62-673f-4ba3-89cf-efc67a710426",
   "metadata": {},
   "outputs": [
    {
     "name": "stdout",
     "output_type": "stream",
     "text": [
      "Column 'start_time' cast to type 'datetimestamp'.\n",
      "--------------------\n",
      "Column 'stop_time' cast to type 'datetimestamp'.\n",
      "--------------------\n",
      "Column 'patient_id' cast to type 'str'.\n",
      "--------------------\n",
      "Column 'payer_id' cast to type 'str'.\n",
      "--------------------\n",
      "Column 'encounter_id' cast to type 'str'.\n",
      "--------------------\n",
      "Column 'code' cast to type 'str'.\n",
      "--------------------\n",
      "Column 'medicine_description' cast to type 'str'.\n",
      "--------------------\n",
      "Column 'base_cost' cast to type 'numeric'.\n",
      "--------------------\n",
      "Column 'payer_coverage' cast to type 'numeric'.\n",
      "--------------------\n",
      "Column 'medicine_dispenses' cast to type 'numeric'.\n",
      "--------------------\n",
      "Column 'total_cost_of_medicine' cast to type 'numeric'.\n",
      "--------------------\n",
      "Column 'reason_code_for_medication' cast to type 'str'.\n",
      "--------------------\n",
      "Column 'reason_description_for_medication' cast to type 'str'.\n",
      "--------------------\n",
      "Column 'length_of_medication_in_days' cast to type 'numeric'.\n",
      "--------------------\n",
      "Column 'medicine_ended_or_recovered' cast to type 'numeric'.\n",
      "--------------------\n",
      "Column 'birthdate' cast to type 'datetimestamp'.\n",
      "--------------------\n",
      "Column 'marital' cast to type 'str'.\n",
      "--------------------\n",
      "Column 'race' cast to type 'str'.\n",
      "--------------------\n",
      "Column 'ethnicity' cast to type 'str'.\n",
      "--------------------\n",
      "Column 'gender' cast to type 'str'.\n",
      "--------------------\n",
      "Column 'income' cast to type 'numeric'.\n",
      "--------------------\n",
      "Column 'income_category' cast to type 'str'.\n",
      "--------------------\n",
      "Column 'age_of_patient' cast to type 'numeric'.\n",
      "--------------------\n",
      "Column 'age_category' cast to type 'str'.\n",
      "--------------------\n",
      "Size of the DataFrame: 0.01 GB\n"
     ]
    },
    {
     "name": "stderr",
     "output_type": "stream",
     "text": [
      "Summarize dataset: 100%|██████████| 98/98 [00:09<00:00,  9.98it/s, Completed]                                                         \n",
      "Generate report structure: 100%|██████████| 1/1 [00:07<00:00,  7.15s/it]\n",
      "Render HTML: 100%|██████████| 1/1 [00:01<00:00,  1.53s/it]\n",
      "Export report to file: 100%|██████████| 1/1 [00:00<00:00, 109.79it/s]\n"
     ]
    }
   ],
   "source": [
    "# del to free up memory \n",
    "if 'df_encounters' in globals():\n",
    "    del df_encounters\n",
    "\n",
    "# Load YAML column mappings \n",
    "filename_yaml = '../config/processed_medications.yaml' \n",
    "filename_of_report = 'eda_medications_report.html'\n",
    "\n",
    "# Load dictionary mappings\n",
    "dict_column_mappings_encounters = func_return_mappings(filename_yaml)\n",
    "# display(dict_column_mappings_encounters)\n",
    "\n",
    "# Cast with YAML\n",
    "df_medications = func_cast_columns(df_medications, dict_column_mappings_encounters['columns'])\n",
    "\n",
    "# Generate report\n",
    "func_generate_report(df_medications, filename_of_report)"
   ]
  },
  {
   "cell_type": "markdown",
   "id": "0cc7b213",
   "metadata": {},
   "source": [
    "# Procedure report"
   ]
  },
  {
   "cell_type": "code",
   "execution_count": 6,
   "id": "f20d2c01-d2f1-48b7-885f-db6a7f179aed",
   "metadata": {},
   "outputs": [
    {
     "name": "stdout",
     "output_type": "stream",
     "text": [
      "Column 'start_time' cast to type 'datetimestamp'.\n",
      "--------------------\n",
      "Column 'stop_time' cast to type 'datetimestamp'.\n",
      "--------------------\n",
      "Column 'patient_id' cast to type 'str'.\n",
      "--------------------\n",
      "Column 'encounter_id' cast to type 'str'.\n",
      "--------------------\n",
      "Column 'system' cast to type 'str'.\n",
      "--------------------\n",
      "Column 'snomed_code' cast to type 'str'.\n",
      "--------------------\n",
      "Column 'procedure_description' cast to type 'str'.\n",
      "--------------------\n",
      "Column 'base_cost' cast to type 'numeric'.\n",
      "--------------------\n",
      "Column 'reason_code_for_procedure' cast to type 'str'.\n",
      "--------------------\n",
      "Column 'reason_description_for_procedure' cast to type 'str'.\n",
      "--------------------\n",
      "Column 'length_of_procedure_in_hours' cast to type 'numeric'.\n",
      "--------------------\n",
      "Column 'birthdate' cast to type 'datetimestamp'.\n",
      "--------------------\n",
      "Column 'marital' cast to type 'str'.\n",
      "--------------------\n",
      "Column 'race' cast to type 'str'.\n",
      "--------------------\n",
      "Column 'ethnicity' cast to type 'str'.\n",
      "--------------------\n",
      "Column 'gender' cast to type 'str'.\n",
      "--------------------\n",
      "Column 'income' cast to type 'numeric'.\n",
      "--------------------\n",
      "Column 'income_category' cast to type 'str'.\n",
      "--------------------\n",
      "Column 'age_of_patient' cast to type 'numeric'.\n",
      "--------------------\n",
      "Column 'age_category' cast to type 'str'.\n",
      "--------------------\n",
      "Size of the DataFrame: 0.02 GB\n"
     ]
    },
    {
     "name": "stderr",
     "output_type": "stream",
     "text": [
      "Summarize dataset: 100%|██████████| 54/54 [00:11<00:00,  4.71it/s, Completed]                                                         \n",
      "Generate report structure: 100%|██████████| 1/1 [00:06<00:00,  6.68s/it]\n",
      "Render HTML: 100%|██████████| 1/1 [00:01<00:00,  1.36s/it]\n",
      "Export report to file: 100%|██████████| 1/1 [00:00<00:00, 140.27it/s]\n"
     ]
    }
   ],
   "source": [
    "# del to free up memory \n",
    "if 'df_medications' in globals():\n",
    "    del df_medications\n",
    "\n",
    "# Load YAML column mappings \n",
    "filename_yaml = '../config/processed_procedures.yaml' \n",
    "filename_of_report = 'eda_procedure_report.html'\n",
    "\n",
    "# Load dictionary mappings\n",
    "dict_column_mappings_encounters = func_return_mappings(filename_yaml)\n",
    "# display(dict_column_mappings_encounters)\n",
    "\n",
    "# Cast with YAML\n",
    "df_procedures = func_cast_columns(df_procedures, dict_column_mappings_encounters['columns'])\n",
    "\n",
    "# Generate report\n",
    "func_generate_report(df_procedures, filename_of_report)"
   ]
  },
  {
   "cell_type": "markdown",
   "id": "22656408",
   "metadata": {},
   "source": [
    "# Report for conditions"
   ]
  },
  {
   "cell_type": "code",
   "execution_count": 2,
   "id": "5e250dfe",
   "metadata": {},
   "outputs": [
    {
     "name": "stdout",
     "output_type": "stream",
     "text": [
      "Column 'start_time' cast to type 'datetimestamp'.\n",
      "--------------------\n",
      "Column 'stop_time' cast to type 'datetimestamp'.\n",
      "--------------------\n",
      "Column 'patient_id' cast to type 'str'.\n",
      "--------------------\n",
      "Column 'encounter_id' cast to type 'str'.\n",
      "--------------------\n",
      "Column 'system' cast to type 'str'.\n",
      "--------------------\n",
      "Column 'snomed_code' cast to type 'str'.\n",
      "--------------------\n",
      "Column 'condition_description' cast to type 'str'.\n",
      "--------------------\n",
      "Column 'length_of_condition_in_days' cast to type 'numeric'.\n",
      "--------------------\n",
      "Column 'condition_persistent_or_ended' cast to type 'numeric'.\n",
      "--------------------\n",
      "Column 'birthdate' cast to type 'datetimestamp'.\n",
      "--------------------\n",
      "Column 'marital' cast to type 'str'.\n",
      "--------------------\n",
      "Column 'race' cast to type 'str'.\n",
      "--------------------\n",
      "Column 'ethnicity' cast to type 'str'.\n",
      "--------------------\n",
      "Column 'gender' cast to type 'str'.\n",
      "--------------------\n",
      "Column 'income' cast to type 'numeric'.\n",
      "--------------------\n",
      "Column 'income_category' cast to type 'str'.\n",
      "--------------------\n",
      "Column 'age_of_patient' cast to type 'numeric'.\n",
      "--------------------\n",
      "Column 'age_category' cast to type 'str'.\n",
      "--------------------\n"
     ]
    }
   ],
   "source": [
    "# Load it separately\n",
    "df_conditions = pd.read_csv('../data/processed_data/processed_conditions.csv', encoding='utf-8')\n",
    "\n",
    "# Load YAML column mappings \n",
    "filename_yaml = '../config/processed_conditions.yaml' \n",
    "filename_of_report = 'eda_conditions_report.html'\n",
    "\n",
    "# Load dictionary mappings\n",
    "dict_column_mappings_encounters = func_return_mappings(filename_yaml)\n",
    "# display(dict_column_mappings_encounters)\n",
    "\n",
    "# Cast with YAML\n",
    "df_conditions = func_cast_columns(df_conditions, dict_column_mappings_encounters['columns'])\n",
    "\n",
    "# Generate report\n",
    "# func_generate_report(df_conditions, filename_of_report)"
   ]
  },
  {
   "cell_type": "code",
   "execution_count": 1,
   "id": "b42dcadf",
   "metadata": {},
   "outputs": [],
   "source": [
    "# df_conditions['condition_description'].unique()\n",
    "# func_generate_report(df_conditions, filename_of_report)"
   ]
  },
  {
   "cell_type": "code",
   "execution_count": null,
   "id": "de2ba88f",
   "metadata": {},
   "outputs": [],
   "source": []
  }
 ],
 "metadata": {
  "kernelspec": {
   "display_name": "dev",
   "language": "python",
   "name": "python3"
  },
  "language_info": {
   "codemirror_mode": {
    "name": "ipython",
    "version": 3
   },
   "file_extension": ".py",
   "mimetype": "text/x-python",
   "name": "python",
   "nbconvert_exporter": "python",
   "pygments_lexer": "ipython3",
   "version": "3.11.6"
  }
 },
 "nbformat": 4,
 "nbformat_minor": 5
}
