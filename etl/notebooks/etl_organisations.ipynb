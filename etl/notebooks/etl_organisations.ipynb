{
 "cells": [
  {
   "cell_type": "markdown",
   "metadata": {},
   "source": [
    "# Data Wrangling for organizations.csv\n",
    "This notebook processes the `organizations.csv` by performing the following steps:\n",
    "- WE JUST NEED TO RENAME COLUMNS HERE"
   ]
  },
  {
   "cell_type": "code",
   "execution_count": 1,
   "metadata": {},
   "outputs": [],
   "source": [
    "import pandas as pd\n",
    "import numpy as np\n",
    "import yaml\n",
    "from pprint import pprint\n",
    "\n",
    "from IPython.display import display, JSON"
   ]
  },
  {
   "cell_type": "code",
   "execution_count": 2,
   "metadata": {},
   "outputs": [],
   "source": [
    "# Standardizing Column Names\n",
    "def func_rename_and_cast_columns(df, column_mappings):\n",
    "    '''\n",
    "    Applies column_mappings to the columns of input dataframe\n",
    "\n",
    "    df: Input dataframe\n",
    "    column_mappings: dictionary containing mappings for column names        \n",
    "    '''\n",
    "    list_unnormalised_colnames = df.columns.to_list()\n",
    "    for unnormalised_colname in list_unnormalised_colnames:\n",
    "        normalised_colname = column_mappings[unnormalised_colname]['normalised_colname']\n",
    "        col_type = column_mappings[unnormalised_colname]['type']\n",
    "        print(f\"renaming column: {unnormalised_colname} to {normalised_colname} and casting type to: {col_type}\")\n",
    "        df.rename(columns={unnormalised_colname: normalised_colname}, inplace=True)\n",
    "        if col_type == 'str':\n",
    "            # Fill NAs and empty strings to \"unknowns\"\n",
    "            if df[normalised_colname].isnull().any() or df[normalised_colname].isna().any():\n",
    "                print(f\"column: {normalised_colname} contains null values thus filling with unknown\")\n",
    "                df[normalised_colname] = df[normalised_colname].fillna(\"Unknown\")\n",
    "            df[normalised_colname] = df[normalised_colname].astype(str)\n",
    "            print(f\"{normalised_colname} casted to type(str)\")\n",
    "        if col_type == 'datetimestamp':\n",
    "            # df[normalised_colname] = pd.to_datetime(df[normalised_colname], errors='coerce')\n",
    "            df[normalised_colname] = pd.to_datetime(df[normalised_colname], errors='coerce') \n",
    "            df[normalised_colname] = df[normalised_colname].dt.tz_localize(None) # Retaining source timeformat\n",
    "            print(f\"{normalised_colname} casted to datetime\")\n",
    "        if col_type == 'numeric':\n",
    "            df[normalised_colname] = pd.to_numeric(df[normalised_colname], errors='coerce')\n",
    "            print(f\"{normalised_colname} casted to numeric\")\n",
    "        print('-'*5)\n",
    "    \n",
    "    return df "
   ]
  },
  {
   "cell_type": "code",
   "execution_count": 3,
   "metadata": {},
   "outputs": [
    {
     "name": "stdout",
     "output_type": "stream",
     "text": [
      "Initial Dataset Info:\n",
      "<class 'pandas.core.frame.DataFrame'>\n",
      "RangeIndex: 272 entries, 0 to 271\n",
      "Data columns (total 11 columns):\n",
      " #   Column       Non-Null Count  Dtype  \n",
      "---  ------       --------------  -----  \n",
      " 0   Id           272 non-null    object \n",
      " 1   NAME         272 non-null    object \n",
      " 2   ADDRESS      272 non-null    object \n",
      " 3   CITY         272 non-null    object \n",
      " 4   STATE        272 non-null    object \n",
      " 5   ZIP          272 non-null    int64  \n",
      " 6   LAT          272 non-null    float64\n",
      " 7   LON          272 non-null    float64\n",
      " 8   PHONE        272 non-null    object \n",
      " 9   REVENUE      272 non-null    float64\n",
      " 10  UTILIZATION  272 non-null    int64  \n",
      "dtypes: float64(3), int64(2), object(6)\n",
      "memory usage: 23.5+ KB\n"
     ]
    },
    {
     "data": {
      "text/html": [
       "<div>\n",
       "<style scoped>\n",
       "    .dataframe tbody tr th:only-of-type {\n",
       "        vertical-align: middle;\n",
       "    }\n",
       "\n",
       "    .dataframe tbody tr th {\n",
       "        vertical-align: top;\n",
       "    }\n",
       "\n",
       "    .dataframe thead th {\n",
       "        text-align: right;\n",
       "    }\n",
       "</style>\n",
       "<table border=\"1\" class=\"dataframe\">\n",
       "  <thead>\n",
       "    <tr style=\"text-align: right;\">\n",
       "      <th></th>\n",
       "      <th>Id</th>\n",
       "      <th>NAME</th>\n",
       "      <th>ADDRESS</th>\n",
       "      <th>CITY</th>\n",
       "      <th>STATE</th>\n",
       "      <th>ZIP</th>\n",
       "      <th>LAT</th>\n",
       "      <th>LON</th>\n",
       "      <th>PHONE</th>\n",
       "      <th>REVENUE</th>\n",
       "      <th>UTILIZATION</th>\n",
       "    </tr>\n",
       "  </thead>\n",
       "  <tbody>\n",
       "    <tr>\n",
       "      <th>0</th>\n",
       "      <td>74ab949d-17ac-3309-83a0-13b4405c66aa</td>\n",
       "      <td>Fitchburg Outpatient Clinic</td>\n",
       "      <td>881 Main Street</td>\n",
       "      <td>Fitchburg</td>\n",
       "      <td>MA</td>\n",
       "      <td>1420</td>\n",
       "      <td>42.586487</td>\n",
       "      <td>-71.805210</td>\n",
       "      <td>978-342-9781 Or 978-342-9781</td>\n",
       "      <td>0.0</td>\n",
       "      <td>66</td>\n",
       "    </tr>\n",
       "    <tr>\n",
       "      <th>1</th>\n",
       "      <td>faffaf6a-ee1a-3673-b0b0-421a9c249244</td>\n",
       "      <td>ACTIVATED BY WELLNESS LLC</td>\n",
       "      <td>66 WASHINGTON ST</td>\n",
       "      <td>STOUGHTON</td>\n",
       "      <td>MA</td>\n",
       "      <td>20722571</td>\n",
       "      <td>42.144158</td>\n",
       "      <td>-71.103783</td>\n",
       "      <td>6178719807</td>\n",
       "      <td>0.0</td>\n",
       "      <td>34</td>\n",
       "    </tr>\n",
       "    <tr>\n",
       "      <th>2</th>\n",
       "      <td>17a4bae5-8b64-34d7-8144-b428be027bd0</td>\n",
       "      <td>NURSE ON CALL</td>\n",
       "      <td>512 MAIN STREET  SUITE 211</td>\n",
       "      <td>SHREWSBURY</td>\n",
       "      <td>MA</td>\n",
       "      <td>15456406</td>\n",
       "      <td>42.295110</td>\n",
       "      <td>-71.718085</td>\n",
       "      <td>5088451232</td>\n",
       "      <td>0.0</td>\n",
       "      <td>5</td>\n",
       "    </tr>\n",
       "    <tr>\n",
       "      <th>3</th>\n",
       "      <td>e09d4c49-c2ef-3b0f-9a46-3719d9219306</td>\n",
       "      <td>UMASS MEMORIAL HEALTHALLIANCE CLINTON HOSPITAL...</td>\n",
       "      <td>60 HOSPITAL RD</td>\n",
       "      <td>LEOMINSTER</td>\n",
       "      <td>MA</td>\n",
       "      <td>14533290</td>\n",
       "      <td>42.540319</td>\n",
       "      <td>-71.763130</td>\n",
       "      <td>9784662000</td>\n",
       "      <td>0.0</td>\n",
       "      <td>30</td>\n",
       "    </tr>\n",
       "    <tr>\n",
       "      <th>4</th>\n",
       "      <td>c241b977-4131-32e4-9957-e0a00b2a1e5f</td>\n",
       "      <td>DUFFY HEALTH CENTER</td>\n",
       "      <td>94 MAIN STREET</td>\n",
       "      <td>HYANNIS</td>\n",
       "      <td>MA</td>\n",
       "      <td>26013146</td>\n",
       "      <td>41.656280</td>\n",
       "      <td>-70.274480</td>\n",
       "      <td>5087719599</td>\n",
       "      <td>0.0</td>\n",
       "      <td>1</td>\n",
       "    </tr>\n",
       "  </tbody>\n",
       "</table>\n",
       "</div>"
      ],
      "text/plain": [
       "                                     Id  \\\n",
       "0  74ab949d-17ac-3309-83a0-13b4405c66aa   \n",
       "1  faffaf6a-ee1a-3673-b0b0-421a9c249244   \n",
       "2  17a4bae5-8b64-34d7-8144-b428be027bd0   \n",
       "3  e09d4c49-c2ef-3b0f-9a46-3719d9219306   \n",
       "4  c241b977-4131-32e4-9957-e0a00b2a1e5f   \n",
       "\n",
       "                                                NAME  \\\n",
       "0                        Fitchburg Outpatient Clinic   \n",
       "1                          ACTIVATED BY WELLNESS LLC   \n",
       "2                                      NURSE ON CALL   \n",
       "3  UMASS MEMORIAL HEALTHALLIANCE CLINTON HOSPITAL...   \n",
       "4                                DUFFY HEALTH CENTER   \n",
       "\n",
       "                      ADDRESS        CITY STATE       ZIP        LAT  \\\n",
       "0             881 Main Street   Fitchburg    MA      1420  42.586487   \n",
       "1            66 WASHINGTON ST   STOUGHTON    MA  20722571  42.144158   \n",
       "2  512 MAIN STREET  SUITE 211  SHREWSBURY    MA  15456406  42.295110   \n",
       "3              60 HOSPITAL RD  LEOMINSTER    MA  14533290  42.540319   \n",
       "4              94 MAIN STREET     HYANNIS    MA  26013146  41.656280   \n",
       "\n",
       "         LON                         PHONE  REVENUE  UTILIZATION  \n",
       "0 -71.805210  978-342-9781 Or 978-342-9781      0.0           66  \n",
       "1 -71.103783                    6178719807      0.0           34  \n",
       "2 -71.718085                    5088451232      0.0            5  \n",
       "3 -71.763130                    9784662000      0.0           30  \n",
       "4 -70.274480                    5087719599      0.0            1  "
      ]
     },
     "execution_count": 3,
     "metadata": {},
     "output_type": "execute_result"
    }
   ],
   "source": [
    "# Load the dataset\n",
    "filepath_csv = '../../data/raw_data/organizations.csv' # Read CSV \n",
    "output_path = '../../data/processed_data/processed_organizations.csv' # Write processed CSV\n",
    "filepath_yaml = '../../config/organizations.yaml' # Read encounters.yaml, it is used to clean column names and apply relevant types to columns\n",
    "\n",
    "# Load Dataframe\n",
    "df = pd.read_csv(filepath_csv)\n",
    "# Load YAML column mappings \n",
    "with open(filepath_yaml, \"r\") as file:\n",
    "    dict_column_mappings = yaml.safe_load(file)\n",
    "    \n",
    "# Display initial dataset information\n",
    "print('Initial Dataset Info:')\n",
    "df.info()\n",
    "df.head(5)"
   ]
  },
  {
   "cell_type": "code",
   "execution_count": 4,
   "metadata": {},
   "outputs": [
    {
     "data": {
      "application/json": {
       "columns": {
        "ADDRESS": {
         "description": "self-explanatory",
         "normalised_colname": "address",
         "type": "str"
        },
        "CITY": {
         "description": "self-explanatory",
         "normalised_colname": "city",
         "type": "str"
        },
        "Id": {
         "description": "organization Id",
         "normalised_colname": "organization_id",
         "type": "str"
        },
        "LAT": {
         "description": "self-explanatory",
         "normalised_colname": "lat",
         "type": "float"
        },
        "LON": {
         "description": "self-explanatory",
         "normalised_colname": "lon",
         "type": "float"
        },
        "NAME": {
         "description": "Possibly hospital name",
         "normalised_colname": "organization_name",
         "type": "str"
        },
        "PHONE": {
         "description": "self-explanatory",
         "normalised_colname": "phone",
         "type": "str"
        },
        "REVENUE": {
         "description": "self-explanatory",
         "normalised_colname": "revenue",
         "type": "float"
        },
        "STATE": {
         "description": "self-explanatory",
         "normalised_colname": "state",
         "type": "str"
        },
        "UTILIZATION": {
         "description": "UTILIZATION, not sure",
         "normalised_colname": "utilization",
         "type": "str"
        },
        "ZIP": {
         "description": "self-explanatory",
         "normalised_colname": "zip",
         "type": "str"
        }
       }
      },
      "text/plain": [
       "<IPython.core.display.JSON object>"
      ]
     },
     "metadata": {
      "application/json": {
       "expanded": false,
       "root": "root"
      }
     },
     "output_type": "display_data"
    }
   ],
   "source": [
    "# pprint(dict_column_mappings)\n",
    "display(JSON(dict_column_mappings))"
   ]
  },
  {
   "cell_type": "markdown",
   "metadata": {},
   "source": [
    "# Data Cleaning and Data Quality Checks\n",
    "\n",
    "1. Just rename columns here"
   ]
  },
  {
   "cell_type": "code",
   "execution_count": 5,
   "metadata": {},
   "outputs": [
    {
     "name": "stdout",
     "output_type": "stream",
     "text": [
      "renaming column: Id to organization_id and casting type to: str\n",
      "organization_id casted to type(str)\n",
      "-----\n",
      "renaming column: NAME to organization_name and casting type to: str\n",
      "organization_name casted to type(str)\n",
      "-----\n",
      "renaming column: ADDRESS to address and casting type to: str\n",
      "address casted to type(str)\n",
      "-----\n",
      "renaming column: CITY to city and casting type to: str\n",
      "city casted to type(str)\n",
      "-----\n",
      "renaming column: STATE to state and casting type to: str\n",
      "state casted to type(str)\n",
      "-----\n",
      "renaming column: ZIP to zip and casting type to: str\n",
      "zip casted to type(str)\n",
      "-----\n",
      "renaming column: LAT to lat and casting type to: float\n",
      "-----\n",
      "renaming column: LON to lon and casting type to: float\n",
      "-----\n",
      "renaming column: PHONE to phone and casting type to: str\n",
      "phone casted to type(str)\n",
      "-----\n",
      "renaming column: REVENUE to revenue and casting type to: float\n",
      "-----\n",
      "renaming column: UTILIZATION to utilization and casting type to: str\n",
      "utilization casted to type(str)\n",
      "-----\n"
     ]
    },
    {
     "data": {
      "text/html": [
       "<div>\n",
       "<style scoped>\n",
       "    .dataframe tbody tr th:only-of-type {\n",
       "        vertical-align: middle;\n",
       "    }\n",
       "\n",
       "    .dataframe tbody tr th {\n",
       "        vertical-align: top;\n",
       "    }\n",
       "\n",
       "    .dataframe thead th {\n",
       "        text-align: right;\n",
       "    }\n",
       "</style>\n",
       "<table border=\"1\" class=\"dataframe\">\n",
       "  <thead>\n",
       "    <tr style=\"text-align: right;\">\n",
       "      <th></th>\n",
       "      <th>organization_id</th>\n",
       "      <th>organization_name</th>\n",
       "      <th>address</th>\n",
       "      <th>city</th>\n",
       "      <th>state</th>\n",
       "      <th>zip</th>\n",
       "      <th>lat</th>\n",
       "      <th>lon</th>\n",
       "      <th>phone</th>\n",
       "      <th>revenue</th>\n",
       "      <th>utilization</th>\n",
       "    </tr>\n",
       "  </thead>\n",
       "  <tbody>\n",
       "    <tr>\n",
       "      <th>0</th>\n",
       "      <td>74ab949d-17ac-3309-83a0-13b4405c66aa</td>\n",
       "      <td>Fitchburg Outpatient Clinic</td>\n",
       "      <td>881 Main Street</td>\n",
       "      <td>Fitchburg</td>\n",
       "      <td>MA</td>\n",
       "      <td>1420</td>\n",
       "      <td>42.586487</td>\n",
       "      <td>-71.805210</td>\n",
       "      <td>978-342-9781 Or 978-342-9781</td>\n",
       "      <td>0.0</td>\n",
       "      <td>66</td>\n",
       "    </tr>\n",
       "    <tr>\n",
       "      <th>1</th>\n",
       "      <td>faffaf6a-ee1a-3673-b0b0-421a9c249244</td>\n",
       "      <td>ACTIVATED BY WELLNESS LLC</td>\n",
       "      <td>66 WASHINGTON ST</td>\n",
       "      <td>STOUGHTON</td>\n",
       "      <td>MA</td>\n",
       "      <td>20722571</td>\n",
       "      <td>42.144158</td>\n",
       "      <td>-71.103783</td>\n",
       "      <td>6178719807</td>\n",
       "      <td>0.0</td>\n",
       "      <td>34</td>\n",
       "    </tr>\n",
       "    <tr>\n",
       "      <th>2</th>\n",
       "      <td>17a4bae5-8b64-34d7-8144-b428be027bd0</td>\n",
       "      <td>NURSE ON CALL</td>\n",
       "      <td>512 MAIN STREET  SUITE 211</td>\n",
       "      <td>SHREWSBURY</td>\n",
       "      <td>MA</td>\n",
       "      <td>15456406</td>\n",
       "      <td>42.295110</td>\n",
       "      <td>-71.718085</td>\n",
       "      <td>5088451232</td>\n",
       "      <td>0.0</td>\n",
       "      <td>5</td>\n",
       "    </tr>\n",
       "    <tr>\n",
       "      <th>3</th>\n",
       "      <td>e09d4c49-c2ef-3b0f-9a46-3719d9219306</td>\n",
       "      <td>UMASS MEMORIAL HEALTHALLIANCE CLINTON HOSPITAL...</td>\n",
       "      <td>60 HOSPITAL RD</td>\n",
       "      <td>LEOMINSTER</td>\n",
       "      <td>MA</td>\n",
       "      <td>14533290</td>\n",
       "      <td>42.540319</td>\n",
       "      <td>-71.763130</td>\n",
       "      <td>9784662000</td>\n",
       "      <td>0.0</td>\n",
       "      <td>30</td>\n",
       "    </tr>\n",
       "    <tr>\n",
       "      <th>4</th>\n",
       "      <td>c241b977-4131-32e4-9957-e0a00b2a1e5f</td>\n",
       "      <td>DUFFY HEALTH CENTER</td>\n",
       "      <td>94 MAIN STREET</td>\n",
       "      <td>HYANNIS</td>\n",
       "      <td>MA</td>\n",
       "      <td>26013146</td>\n",
       "      <td>41.656280</td>\n",
       "      <td>-70.274480</td>\n",
       "      <td>5087719599</td>\n",
       "      <td>0.0</td>\n",
       "      <td>1</td>\n",
       "    </tr>\n",
       "  </tbody>\n",
       "</table>\n",
       "</div>"
      ],
      "text/plain": [
       "                        organization_id  \\\n",
       "0  74ab949d-17ac-3309-83a0-13b4405c66aa   \n",
       "1  faffaf6a-ee1a-3673-b0b0-421a9c249244   \n",
       "2  17a4bae5-8b64-34d7-8144-b428be027bd0   \n",
       "3  e09d4c49-c2ef-3b0f-9a46-3719d9219306   \n",
       "4  c241b977-4131-32e4-9957-e0a00b2a1e5f   \n",
       "\n",
       "                                   organization_name  \\\n",
       "0                        Fitchburg Outpatient Clinic   \n",
       "1                          ACTIVATED BY WELLNESS LLC   \n",
       "2                                      NURSE ON CALL   \n",
       "3  UMASS MEMORIAL HEALTHALLIANCE CLINTON HOSPITAL...   \n",
       "4                                DUFFY HEALTH CENTER   \n",
       "\n",
       "                      address        city state       zip        lat  \\\n",
       "0             881 Main Street   Fitchburg    MA      1420  42.586487   \n",
       "1            66 WASHINGTON ST   STOUGHTON    MA  20722571  42.144158   \n",
       "2  512 MAIN STREET  SUITE 211  SHREWSBURY    MA  15456406  42.295110   \n",
       "3              60 HOSPITAL RD  LEOMINSTER    MA  14533290  42.540319   \n",
       "4              94 MAIN STREET     HYANNIS    MA  26013146  41.656280   \n",
       "\n",
       "         lon                         phone  revenue utilization  \n",
       "0 -71.805210  978-342-9781 Or 978-342-9781      0.0          66  \n",
       "1 -71.103783                    6178719807      0.0          34  \n",
       "2 -71.718085                    5088451232      0.0           5  \n",
       "3 -71.763130                    9784662000      0.0          30  \n",
       "4 -70.274480                    5087719599      0.0           1  "
      ]
     },
     "execution_count": 5,
     "metadata": {},
     "output_type": "execute_result"
    }
   ],
   "source": [
    "df = func_rename_and_cast_columns(df, dict_column_mappings['columns'])\n",
    "df.head(5)"
   ]
  },
  {
   "cell_type": "code",
   "execution_count": 6,
   "metadata": {},
   "outputs": [
    {
     "name": "stdout",
     "output_type": "stream",
     "text": [
      "Total length of dataframe BEFORE removing duplicates: 272\n",
      "Total length of dataframe AFTER removing duplicates: 272\n"
     ]
    }
   ],
   "source": [
    "# Check for duplicate rows\n",
    "print(f\"Total length of dataframe BEFORE removing duplicates: {len(df)}\")\n",
    "df = df.drop_duplicates()\n",
    "print(f\"Total length of dataframe AFTER removing duplicates: {len(df)}\")\n"
   ]
  },
  {
   "cell_type": "code",
   "execution_count": 7,
   "metadata": {},
   "outputs": [
    {
     "name": "stdout",
     "output_type": "stream",
     "text": [
      "Processed data saved to ../../data/processed_data/processed_organizations.csv\n"
     ]
    }
   ],
   "source": [
    "# Save the cleaned and transformed dataset\n",
    "df.to_csv(output_path, index=False)\n",
    "print(f'Processed data saved to {output_path}')"
   ]
  },
  {
   "cell_type": "code",
   "execution_count": null,
   "metadata": {},
   "outputs": [],
   "source": []
  }
 ],
 "metadata": {
  "kernelspec": {
   "display_name": "dev",
   "language": "python",
   "name": "python3"
  },
  "language_info": {
   "codemirror_mode": {
    "name": "ipython",
    "version": 3
   },
   "file_extension": ".py",
   "mimetype": "text/x-python",
   "name": "python",
   "nbconvert_exporter": "python",
   "pygments_lexer": "ipython3",
   "version": "3.11.6"
  }
 },
 "nbformat": 4,
 "nbformat_minor": 2
}
